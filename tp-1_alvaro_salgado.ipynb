{
 "cells": [
  {
   "cell_type": "markdown",
   "metadata": {},
   "source": [
    "# Machine Learning\n",
    "# Neural Networks and Backpropagation\n",
    "## TP-1 \n",
    "## May 2018\n",
    "\n",
    "\n",
    "\n",
    "### Álvaro Salgado\n",
    "### salgado.alvaro@me.com"
   ]
  },
  {
   "cell_type": "markdown",
   "metadata": {},
   "source": [
    "## Objectives\n",
    "The present work is part of the discipline \"Machine Learning\" given at the graduate level in the Department of Computer Science - Federal University of Minas Gerais - Brazil (DCC/UFMG).\n",
    "\n",
    "The main objective is to study the behavior of a MLP network trained on the \"mnist\" dataset, evaluating and discussing the design choices such as the number of hidden units and type of training, and their impact on the quality of the results.\n",
    "\n"
   ]
  },
  {
   "cell_type": "markdown",
   "metadata": {},
   "source": [
    "## Experimental Setup\n",
    "\n",
    "The model implemented will be a three layer MLP, with a sigmoid hidden layer (logistic sigmoid function: $f(x) = \\frac{1}{1 + e^{-x}}$) and a softmax output layer (adequate for multiclass problems). "
   ]
  },
  {
   "cell_type": "markdown",
   "metadata": {},
   "source": [
    "The loss function will be the \"cross entropy\" as shown below:\n",
    "\n",
    "$$J(\\theta) = \\frac{1}{m}\\sum_{i=1}^{m}\\sum_{k=1}^{K}{[-y_k^{(i)}log((h_{\\theta}(x^{(i)}))_k)-(1-y_k^{(i)})log(1-(h_{\\theta}(x^{(i)}))_k)]}$$\n",
    "\n",
    "where $m$ is the number of training examples (or instances) and $k$ is the number of possible results (or the number of classes). Also, $y_k^{(i)}$ represents the correct answer for each input example $i$, and $(h_{\\theta}(x^{(i)}))_k$ represents the output given by the neural network.\n",
    "\n",
    "The dataset to be used is part of the \"mnist\" dataset, which contains images of handwritten characters (from 0 to 9). Each input is a 28 x 28 pixel image, unrolled into a 784 dimensions vector, in which the values for each dimension can vary between 0 and 255 (gray scale).\n",
    "\n",
    "The dataset provided contains 5000 labled examples, where the first column corresponds to the label, i.e., 0 to 9.\n",
    "\n",
    "Therefore, the MLP neural network to be implemented will contain 784 inputs and 10 outputs. The hidden layer size will be adjusted between 25, 50 and 100 units.\n",
    "\n",
    "Three training procedures will be compared:\n",
    "1. Gradient descent, where the whole training set is processed for each gradient calculation.\n",
    "2. Stochastic gradient descent, where the gradient and weight updates are calculated after each input instance.\n",
    "3. Mini-Batch, where the gradient and weight updates are calculated after a small batch of input instances is processed. Batch sizes will be 10 and 50 inputs.\n",
    "\n",
    "The learning rate $(\\eta)$ will also be adjusted between 0.5, 1 and 10.\n",
    "\n",
    "The effect of the regularization parameter $(\\lambda)$ will be investigated as well.\n",
    "\n",
    "The dataset will be split between training and test datasets to the proportion of 4/1. The trained model will be evaluated on the test set."
   ]
  },
  {
   "cell_type": "markdown",
   "metadata": {},
   "source": [
    "## Visualizing the data\n",
    "\n",
    "The first thing to do is to understand the kind of data we are dealing with.\n",
    "We were given a csv file containing 5000 lines. Each line has 785 characters (integers), beginning with the label, a number from 0 to 9, after which we have the 784 positions on our input vector. \n",
    "\n",
    "Each position corresponds to a pixel in a 28 x 28 image, and the number in each position corresponds to the intensity in a grayscale that goes from 0 to 255 (8 bits)."
   ]
  },
  {
   "cell_type": "code",
   "execution_count": 1,
   "metadata": {},
   "outputs": [],
   "source": [
    "import matplotlib.pyplot as plt\n",
    "import matplotlib \n",
    "import pandas as pd\n",
    "import numpy as np\n",
    "from numpy import random as rnd "
   ]
  },
  {
   "cell_type": "code",
   "execution_count": 2,
   "metadata": {},
   "outputs": [],
   "source": [
    "\"\"\" Import data \n",
    "##################################################################\"\"\"\n",
    "df_data = pd.read_csv('data_tp1.txt', header=None)"
   ]
  },
  {
   "cell_type": "code",
   "execution_count": 3,
   "metadata": {},
   "outputs": [],
   "source": [
    "X = np.array(df_data)\n",
    "X = X[:,1:]\n",
    "Y = np.array(df_data[0])"
   ]
  },
  {
   "cell_type": "markdown",
   "metadata": {},
   "source": [
    "Below we can see how our data set is organised. \n",
    "\n",
    "df_X contains the inputs, where each value in a row correspond to a pixel in that sample image. Most values are equal to 0, i.e., empty pixels.\n",
    "\n",
    "df_Y contains the labels, where each value corresponds to the correct classification of its respective input."
   ]
  },
  {
   "cell_type": "code",
   "execution_count": 4,
   "metadata": {},
   "outputs": [],
   "source": [
    "df_X = pd.DataFrame(X)"
   ]
  },
  {
   "cell_type": "code",
   "execution_count": 5,
   "metadata": {},
   "outputs": [
    {
     "data": {
      "text/html": [
       "<div>\n",
       "<style scoped>\n",
       "    .dataframe tbody tr th:only-of-type {\n",
       "        vertical-align: middle;\n",
       "    }\n",
       "\n",
       "    .dataframe tbody tr th {\n",
       "        vertical-align: top;\n",
       "    }\n",
       "\n",
       "    .dataframe thead th {\n",
       "        text-align: right;\n",
       "    }\n",
       "</style>\n",
       "<table border=\"1\" class=\"dataframe\">\n",
       "  <thead>\n",
       "    <tr style=\"text-align: right;\">\n",
       "      <th></th>\n",
       "      <th>0</th>\n",
       "      <th>1</th>\n",
       "      <th>2</th>\n",
       "      <th>3</th>\n",
       "      <th>4</th>\n",
       "      <th>5</th>\n",
       "      <th>6</th>\n",
       "      <th>7</th>\n",
       "      <th>8</th>\n",
       "      <th>9</th>\n",
       "      <th>...</th>\n",
       "      <th>774</th>\n",
       "      <th>775</th>\n",
       "      <th>776</th>\n",
       "      <th>777</th>\n",
       "      <th>778</th>\n",
       "      <th>779</th>\n",
       "      <th>780</th>\n",
       "      <th>781</th>\n",
       "      <th>782</th>\n",
       "      <th>783</th>\n",
       "    </tr>\n",
       "  </thead>\n",
       "  <tbody>\n",
       "    <tr>\n",
       "      <th>0</th>\n",
       "      <td>0</td>\n",
       "      <td>0</td>\n",
       "      <td>0</td>\n",
       "      <td>0</td>\n",
       "      <td>0</td>\n",
       "      <td>0</td>\n",
       "      <td>0</td>\n",
       "      <td>0</td>\n",
       "      <td>0</td>\n",
       "      <td>0</td>\n",
       "      <td>...</td>\n",
       "      <td>0</td>\n",
       "      <td>0</td>\n",
       "      <td>0</td>\n",
       "      <td>0</td>\n",
       "      <td>0</td>\n",
       "      <td>0</td>\n",
       "      <td>0</td>\n",
       "      <td>0</td>\n",
       "      <td>0</td>\n",
       "      <td>0</td>\n",
       "    </tr>\n",
       "    <tr>\n",
       "      <th>1</th>\n",
       "      <td>0</td>\n",
       "      <td>0</td>\n",
       "      <td>0</td>\n",
       "      <td>0</td>\n",
       "      <td>0</td>\n",
       "      <td>0</td>\n",
       "      <td>0</td>\n",
       "      <td>0</td>\n",
       "      <td>0</td>\n",
       "      <td>0</td>\n",
       "      <td>...</td>\n",
       "      <td>0</td>\n",
       "      <td>0</td>\n",
       "      <td>0</td>\n",
       "      <td>0</td>\n",
       "      <td>0</td>\n",
       "      <td>0</td>\n",
       "      <td>0</td>\n",
       "      <td>0</td>\n",
       "      <td>0</td>\n",
       "      <td>0</td>\n",
       "    </tr>\n",
       "    <tr>\n",
       "      <th>2</th>\n",
       "      <td>0</td>\n",
       "      <td>0</td>\n",
       "      <td>0</td>\n",
       "      <td>0</td>\n",
       "      <td>0</td>\n",
       "      <td>0</td>\n",
       "      <td>0</td>\n",
       "      <td>0</td>\n",
       "      <td>0</td>\n",
       "      <td>0</td>\n",
       "      <td>...</td>\n",
       "      <td>0</td>\n",
       "      <td>0</td>\n",
       "      <td>0</td>\n",
       "      <td>0</td>\n",
       "      <td>0</td>\n",
       "      <td>0</td>\n",
       "      <td>0</td>\n",
       "      <td>0</td>\n",
       "      <td>0</td>\n",
       "      <td>0</td>\n",
       "    </tr>\n",
       "    <tr>\n",
       "      <th>3</th>\n",
       "      <td>0</td>\n",
       "      <td>0</td>\n",
       "      <td>0</td>\n",
       "      <td>0</td>\n",
       "      <td>0</td>\n",
       "      <td>0</td>\n",
       "      <td>0</td>\n",
       "      <td>0</td>\n",
       "      <td>0</td>\n",
       "      <td>0</td>\n",
       "      <td>...</td>\n",
       "      <td>0</td>\n",
       "      <td>0</td>\n",
       "      <td>0</td>\n",
       "      <td>0</td>\n",
       "      <td>0</td>\n",
       "      <td>0</td>\n",
       "      <td>0</td>\n",
       "      <td>0</td>\n",
       "      <td>0</td>\n",
       "      <td>0</td>\n",
       "    </tr>\n",
       "    <tr>\n",
       "      <th>4</th>\n",
       "      <td>0</td>\n",
       "      <td>0</td>\n",
       "      <td>0</td>\n",
       "      <td>0</td>\n",
       "      <td>0</td>\n",
       "      <td>0</td>\n",
       "      <td>0</td>\n",
       "      <td>0</td>\n",
       "      <td>0</td>\n",
       "      <td>0</td>\n",
       "      <td>...</td>\n",
       "      <td>0</td>\n",
       "      <td>0</td>\n",
       "      <td>0</td>\n",
       "      <td>0</td>\n",
       "      <td>0</td>\n",
       "      <td>0</td>\n",
       "      <td>0</td>\n",
       "      <td>0</td>\n",
       "      <td>0</td>\n",
       "      <td>0</td>\n",
       "    </tr>\n",
       "  </tbody>\n",
       "</table>\n",
       "<p>5 rows × 784 columns</p>\n",
       "</div>"
      ],
      "text/plain": [
       "   0    1    2    3    4    5    6    7    8    9   ...   774  775  776  777  \\\n",
       "0    0    0    0    0    0    0    0    0    0    0 ...     0    0    0    0   \n",
       "1    0    0    0    0    0    0    0    0    0    0 ...     0    0    0    0   \n",
       "2    0    0    0    0    0    0    0    0    0    0 ...     0    0    0    0   \n",
       "3    0    0    0    0    0    0    0    0    0    0 ...     0    0    0    0   \n",
       "4    0    0    0    0    0    0    0    0    0    0 ...     0    0    0    0   \n",
       "\n",
       "   778  779  780  781  782  783  \n",
       "0    0    0    0    0    0    0  \n",
       "1    0    0    0    0    0    0  \n",
       "2    0    0    0    0    0    0  \n",
       "3    0    0    0    0    0    0  \n",
       "4    0    0    0    0    0    0  \n",
       "\n",
       "[5 rows x 784 columns]"
      ]
     },
     "execution_count": 5,
     "metadata": {},
     "output_type": "execute_result"
    }
   ],
   "source": [
    "df_X.head()"
   ]
  },
  {
   "cell_type": "code",
   "execution_count": 6,
   "metadata": {},
   "outputs": [],
   "source": [
    "df_Y = pd.DataFrame(Y)"
   ]
  },
  {
   "cell_type": "code",
   "execution_count": 7,
   "metadata": {},
   "outputs": [
    {
     "data": {
      "text/html": [
       "<div>\n",
       "<style scoped>\n",
       "    .dataframe tbody tr th:only-of-type {\n",
       "        vertical-align: middle;\n",
       "    }\n",
       "\n",
       "    .dataframe tbody tr th {\n",
       "        vertical-align: top;\n",
       "    }\n",
       "\n",
       "    .dataframe thead th {\n",
       "        text-align: right;\n",
       "    }\n",
       "</style>\n",
       "<table border=\"1\" class=\"dataframe\">\n",
       "  <thead>\n",
       "    <tr style=\"text-align: right;\">\n",
       "      <th></th>\n",
       "      <th>0</th>\n",
       "    </tr>\n",
       "  </thead>\n",
       "  <tbody>\n",
       "    <tr>\n",
       "      <th>0</th>\n",
       "      <td>7</td>\n",
       "    </tr>\n",
       "    <tr>\n",
       "      <th>1</th>\n",
       "      <td>2</td>\n",
       "    </tr>\n",
       "    <tr>\n",
       "      <th>2</th>\n",
       "      <td>1</td>\n",
       "    </tr>\n",
       "    <tr>\n",
       "      <th>3</th>\n",
       "      <td>0</td>\n",
       "    </tr>\n",
       "    <tr>\n",
       "      <th>4</th>\n",
       "      <td>4</td>\n",
       "    </tr>\n",
       "  </tbody>\n",
       "</table>\n",
       "</div>"
      ],
      "text/plain": [
       "   0\n",
       "0  7\n",
       "1  2\n",
       "2  1\n",
       "3  0\n",
       "4  4"
      ]
     },
     "execution_count": 7,
     "metadata": {},
     "output_type": "execute_result"
    }
   ],
   "source": [
    "df_Y.head()"
   ]
  },
  {
   "cell_type": "markdown",
   "metadata": {},
   "source": [
    "Let's take a closer look at one of the samples.\n",
    "\n",
    "Below we can see the data stored inside the first sample of the dataset. Each position corresponds to a pixel in the 28 x 28 image. As expected, the pixel values vary between 0 and 255 on a 8 bit gray scale."
   ]
  },
  {
   "cell_type": "code",
   "execution_count": 8,
   "metadata": {},
   "outputs": [
    {
     "name": "stdout",
     "output_type": "stream",
     "text": [
      "[  0   0   0   0   0   0   0   0   0   0   0   0   0   0   0   0   0   0\n",
      "   0   0   0   0   0   0   0   0   0   0   0   0   0   0   0   0   0   0\n",
      "   0   0   0   0   0   0   0   0   0   0   0   0   0   0   0   0   0   0\n",
      "   0   0   0   0   0   0   0   0   0   0   0   0   0   0   0   0   0   0\n",
      "   0   0   0   0   0   0   0   0   0   0   0   0   0   0   0   0   0   0\n",
      "   0   0   0   0   0   0   0   0   0   0   0   0   0   0   0   0   0   0\n",
      "   0   0   0   0   0   0   0   0   0   0   0   0   0   0   0   0   0   0\n",
      "   0   0   0   0   0   0   0   0   0   0   0   0   0   0   0   0   0   0\n",
      "   0   0   0   0   0   0   0   0   0   0   0   0   0   0   0   0   0   0\n",
      "   0   0   0   0   0   0   0   0   0   0   0   0   0   0   0   0   0   0\n",
      "   0   0   0   0   0   0   0   0   0   0   0   0   0   0   0   0   0   0\n",
      "   0   0   0   0  84 185 159 151  60  36   0   0   0   0   0   0   0   0\n",
      "   0   0   0   0   0   0   0   0   0   0   0   0   0   0 222 254 254 254\n",
      " 254 241 198 198 198 198 198 198 198 198 170  52   0   0   0   0   0   0\n",
      "   0   0   0   0   0   0  67 114  72 114 163 227 254 225 254 254 254 250\n",
      " 229 254 254 140   0   0   0   0   0   0   0   0   0   0   0   0   0   0\n",
      "   0   0   0  17  66  14  67  67  67  59  21 236 254 106   0   0   0   0\n",
      "   0   0   0   0   0   0   0   0   0   0   0   0   0   0   0   0   0   0\n",
      "   0   0  83 253 209  18   0   0   0   0   0   0   0   0   0   0   0   0\n",
      "   0   0   0   0   0   0   0   0   0   0   0  22 233 255  83   0   0   0\n",
      "   0   0   0   0   0   0   0   0   0   0   0   0   0   0   0   0   0   0\n",
      "   0   0   0 129 254 238  44   0   0   0   0   0   0   0   0   0   0   0\n",
      "   0   0   0   0   0   0   0   0   0   0   0   0  59 249 254  62   0   0\n",
      "   0   0   0   0   0   0   0   0   0   0   0   0   0   0   0   0   0   0\n",
      "   0   0   0   0 133 254 187   5   0   0   0   0   0   0   0   0   0   0\n",
      "   0   0   0   0   0   0   0   0   0   0   0   0   0   9 205 248  58   0\n",
      "   0   0   0   0   0   0   0   0   0   0   0   0   0   0   0   0   0   0\n",
      "   0   0   0   0   0 126 254 182   0   0   0   0   0   0   0   0   0   0\n",
      "   0   0   0   0   0   0   0   0   0   0   0   0   0   0  75 251 240  57\n",
      "   0   0   0   0   0   0   0   0   0   0   0   0   0   0   0   0   0   0\n",
      "   0   0   0   0   0  19 221 254 166   0   0   0   0   0   0   0   0   0\n",
      "   0   0   0   0   0   0   0   0   0   0   0   0   0   0   3 203 254 219\n",
      "  35   0   0   0   0   0   0   0   0   0   0   0   0   0   0   0   0   0\n",
      "   0   0   0   0   0   0  38 254 254  77   0   0   0   0   0   0   0   0\n",
      "   0   0   0   0   0   0   0   0   0   0   0   0   0   0   0  31 224 254\n",
      " 115   1   0   0   0   0   0   0   0   0   0   0   0   0   0   0   0   0\n",
      "   0   0   0   0   0   0   0 133 254 254  52   0   0   0   0   0   0   0\n",
      "   0   0   0   0   0   0   0   0   0   0   0   0   0   0   0   0  61 242\n",
      " 254 254  52   0   0   0   0   0   0   0   0   0   0   0   0   0   0   0\n",
      "   0   0   0   0   0   0   0   0 121 254 254 219  40   0   0   0   0   0\n",
      "   0   0   0   0   0   0   0   0   0   0   0   0   0   0   0   0   0   0\n",
      " 121 254 207  18   0   0   0   0   0   0   0   0   0   0   0   0   0   0\n",
      "   0   0   0   0   0   0   0   0   0   0   0   0   0   0   0   0   0   0\n",
      "   0   0   0   0   0   0   0   0   0   0]\n"
     ]
    }
   ],
   "source": [
    "print(X[0])"
   ]
  },
  {
   "cell_type": "markdown",
   "metadata": {},
   "source": [
    "The fact that the values vary between 0 and 255 proves to be a problem for the neural network we will use. Usually values should be scaled to stay in a range between 0 and 1, or to be represented by a normal distribution centered on 0 with a variance of 1.\n",
    "\n",
    "Therefore, we will apply what is called _\"feature scaling\"_ to the input samples:\n",
    "\n",
    "$$x = \\frac{x - x_{min}}{x_{max} - x_{min}}$$\n",
    "\n",
    "which, in our case, is achieved by dividing each of the values by 255."
   ]
  },
  {
   "cell_type": "code",
   "execution_count": 9,
   "metadata": {},
   "outputs": [],
   "source": [
    "X = X / 255 # Feature scaling"
   ]
  },
  {
   "cell_type": "markdown",
   "metadata": {},
   "source": [
    "Now we will take a look at how this dataset is related to real handwritten digits. To do this, we will visualize the original image.\n",
    "\n",
    "The codes used below for visualization were taken from:\n",
    "\n",
    "http://sdsawtelle.github.io/blog/output/week4-andrew-ng-machine-learning-with-python.html\n"
   ]
  },
  {
   "cell_type": "code",
   "execution_count": 10,
   "metadata": {
    "scrolled": true
   },
   "outputs": [
    {
     "name": "stdout",
     "output_type": "stream",
     "text": [
      "Label:  3\n"
     ]
    },
    {
     "data": {
      "image/png": "[encoded data removed]",
      "text/plain": [
       "<Figure size 432x288 with 1 Axes>"
      ]
     },
     "metadata": {},
     "output_type": "display_data"
    }
   ],
   "source": [
    "\"\"\" Let's visualize one sample \n",
    "##################################################################\"\"\"\n",
    "\n",
    "index = 3432\n",
    "\n",
    "im = X[index]  \n",
    "im = np.reshape(im, (28, 28), order = \"A\")  \n",
    "graymap = plt.get_cmap(\"gray\")\n",
    "fig1 = plt.figure()\n",
    "fig1 = plt.imshow(im, cmap = graymap, interpolation=\"None\")  \n",
    "print(\"Label: \", Y[index])\n",
    "plt.show()"
   ]
  },
  {
   "cell_type": "markdown",
   "metadata": {},
   "source": [
    "Now let's take a look at some other examples:"
   ]
  },
  {
   "cell_type": "code",
   "execution_count": 11,
   "metadata": {},
   "outputs": [
    {
     "data": {
      "image/png": "[encoded data removed]",
      "text/plain": [
       "<Figure size 720x720 with 100 Axes>"
      ]
     },
     "metadata": {},
     "output_type": "display_data"
    }
   ],
   "source": [
    "\"\"\" Let's visualize 100 samples\n",
    "##################################################################\"\"\"\n",
    "\n",
    "indxs = rnd.choice(5000, 100, replace=False)  \n",
    "\n",
    "# Create a new figure with 100 axes objects inside it (subplots)\n",
    "fig, axs = plt.subplots(10, 10, sharex=True, sharey=True, figsize=(10,10)) \n",
    "axs = axs.flatten()  # The returned axs is actually a matrix holding the handles to all the subplot axes objects\n",
    "graymap = plt.get_cmap(\"gray\")\n",
    "\n",
    "for i, indx in enumerate(indxs):\n",
    "    im_mat = np.reshape(X[indx], (28, 28), order = \"A\")\n",
    "    axs[i].imshow(im_mat, cmap = graymap, interpolation=\"None\")\n",
    "    axs[i].xaxis.set_visible(False)  # Hide the axes labels for clarity\n",
    "    axs[i].yaxis.set_visible(False) \n",
    "    \n",
    "plt.show()"
   ]
  },
  {
   "cell_type": "markdown",
   "metadata": {},
   "source": [
    "Now that we have toyed with and understood our dataset, it's time to do some experimentation on an actual neural network."
   ]
  },
  {
   "cell_type": "markdown",
   "metadata": {},
   "source": [
    "## Training and Test Datasets\n",
    "Since we want to be able to evaluate our network against data that wasn't seen during training, we will split our data set between training and test sets, so that we can verify our model's quality and capacity for generalization, making sure that it doesn't end up overfitting the traing data."
   ]
  },
  {
   "cell_type": "code",
   "execution_count": 12,
   "metadata": {},
   "outputs": [],
   "source": [
    "\"\"\" Split data between training and test sets\n",
    "##################################################################\"\"\"\n",
    "from sklearn.model_selection import train_test_split\n",
    "\n",
    "X_train, X_test, Y_train, Y_test = train_test_split(X, Y, test_size=0.2, random_state=42)"
   ]
  },
  {
   "cell_type": "markdown",
   "metadata": {},
   "source": [
    "## Performance scores\n",
    "Since we will evaluate our model's behavior on a test dataset, it is important to choose adequate performance metrics.\n",
    "\n",
    "#### Accuracy\n",
    "Accuracy is equal to the number of test samples that are correctly classified over all test samples. In our case, where the dataset is well balanced and there are roughtly equal ammounts of samples for each class, accuracy is a fairly adequate metric.\n",
    "\n",
    "In very unbalanced datasets, where there are many more instances of one class than the other, different metrics are necessary.\n",
    "\n",
    "#### Precision\n",
    "Precision is the ratio of correctly predicted samples of a specific class, over all samples that were predicted to belong to that class.\n",
    "\n",
    "$$Precision = \\frac{True Positives}{True Positives + False Positives}$$\n",
    "\n",
    "#### Recall (Sensitivity)\n",
    "Recall is the ratio of correctly predicted samples of a specific class, over all samples that really belong to that class.\n",
    "\n",
    "$$Recall = \\frac{True Positives}{True Positives + False Negatives}$$\n",
    "\n",
    "#### F1 Score\n",
    "F1 Score is a weighted average of precision and recall.\n",
    "\n",
    "#### Which one?\n",
    "In our case, accuracy gives a good performance metric.\n",
    "\n",
    "In cases where the dataset is unbalanced, or where mistakes have different consequences wether they are false positives or false negatives (e.g. medical diagnostics), it is important to look at precision and recall."
   ]
  },
  {
   "cell_type": "markdown",
   "metadata": {},
   "source": [
    "## MLP Neural Network\n",
    "For this work we were allowed to use third party machine learning solutions. Since it should be a simple and quick investigation, we will use Python's package _\"SciKit-Learn\"_, which contains a MLP Classifier that suits our needs just fine.\n",
    "\n",
    "This model allows the adjustment of all the hyper-parameters we will be working with, evaluates the cross-entropy loss function and is very easy to setup and use.\n",
    "\n",
    "First, we need to import the class MLPClassifier"
   ]
  },
  {
   "cell_type": "code",
   "execution_count": 149,
   "metadata": {},
   "outputs": [],
   "source": [
    "\"\"\" Import MLP and tools\n",
    "##################################################################\"\"\"\n",
    "from sklearn.neural_network import MLPClassifier\n",
    "from sklearn.metrics import classification_report\n",
    "from sklearn.metrics import accuracy_score"
   ]
  },
  {
   "cell_type": "markdown",
   "metadata": {},
   "source": [
    "## Training our model"
   ]
  },
  {
   "cell_type": "markdown",
   "metadata": {},
   "source": [
    "On the code cell bellow, we create and set our neural network classifier.\n",
    "\n",
    "We will start with 25 hidden units with sigmoid (\"logistic\") activation function.\n",
    "\n",
    "The learning rate $(\\eta)$ is set to 0.5.\n",
    "\n",
    "MLPClassifier uses *L2* regularization by default, with a value of 0.0001 for $\\lambda$. We will leave it like this for now and vary it later to see how it impacts on our results.\n",
    "\n",
    "MLPClassifier uses mini-batches by default. We will set the value to 4000 so that the whole training set is used on each epoch. We will test other approaches later. Also, we will set _\"shuffle = True\"_ so that at each epoch the data is given for training in a new random order.\n",
    "\n",
    "We won't use momentum at this time.\n",
    "\n",
    "We will put a high cap on maximum iterations (10,000) to better analise the model's training behavior."
   ]
  },
  {
   "cell_type": "markdown",
   "metadata": {},
   "source": [
    "## Varying learning rates\n",
    "First we will evaluate the training behavior for a _\"full dataset batch\"_ (i.e., gradient descent training), while the _\"learning rate\"_ is varied between the values 0.5, 1 and 10."
   ]
  },
  {
   "cell_type": "code",
   "execution_count": 90,
   "metadata": {
    "scrolled": true
   },
   "outputs": [
    {
     "data": {
      "text/plain": [
       "MLPClassifier(activation='logistic', alpha=0.0001, batch_size=4000,\n",
       "       beta_1=0.9, beta_2=0.999, early_stopping=False, epsilon=1e-08,\n",
       "       hidden_layer_sizes=(25,), learning_rate='constant',\n",
       "       learning_rate_init=0.5, max_iter=10000, momentum=0,\n",
       "       nesterovs_momentum=True, power_t=0.5, random_state=29, shuffle=True,\n",
       "       solver='sgd', tol=0.0001, validation_fraction=0.1, verbose=False,\n",
       "       warm_start=False)"
      ]
     },
     "execution_count": 90,
     "metadata": {},
     "output_type": "execute_result"
    }
   ],
   "source": [
    "mlp_eta_05 = MLPClassifier(solver=\"sgd\")\n",
    "mlp_eta_05.hidden_layer_sizes = (25,)\n",
    "mlp_eta_05.activation = \"logistic\"\n",
    "mlp_eta_05.learning_rate_init = 0.5\n",
    "mlp_eta_05.alpha = 0.0001\n",
    "mlp_eta_05.batch_size = 4000\n",
    "mlp_eta_05.shuffle = True\n",
    "mlp_eta_05.random_state = 29\n",
    "mlp_eta_05.momentum = 0\n",
    "mlp_eta_05.verbose = False\n",
    "mlp_eta_05.max_iter = 10000\n",
    "\n",
    "mlp_eta_05.fit(X_train, Y_train)"
   ]
  },
  {
   "cell_type": "code",
   "execution_count": 93,
   "metadata": {
    "scrolled": true
   },
   "outputs": [
    {
     "data": {
      "text/plain": [
       "MLPClassifier(activation='logistic', alpha=0.0001, batch_size=4000,\n",
       "       beta_1=0.9, beta_2=0.999, early_stopping=False, epsilon=1e-08,\n",
       "       hidden_layer_sizes=(25,), learning_rate='constant',\n",
       "       learning_rate_init=1, max_iter=10000, momentum=0,\n",
       "       nesterovs_momentum=True, power_t=0.5, random_state=29, shuffle=True,\n",
       "       solver='sgd', tol=0.0001, validation_fraction=0.1, verbose=False,\n",
       "       warm_start=False)"
      ]
     },
     "execution_count": 93,
     "metadata": {},
     "output_type": "execute_result"
    }
   ],
   "source": [
    "mlp_eta_1 = MLPClassifier(solver=\"sgd\")\n",
    "mlp_eta_1.hidden_layer_sizes = (25,)\n",
    "mlp_eta_1.activation = \"logistic\"\n",
    "mlp_eta_1.learning_rate_init = 1\n",
    "mlp_eta_1.alpha = 0.0001\n",
    "mlp_eta_1.batch_size = 4000\n",
    "mlp_eta_1.shuffle = True\n",
    "mlp_eta_1.random_state = 29\n",
    "mlp_eta_1.momentum = 0\n",
    "mlp_eta_1.verbose = False\n",
    "mlp_eta_1.max_iter = 10000\n",
    "\n",
    "mlp_eta_1.fit(X_train, Y_train)"
   ]
  },
  {
   "cell_type": "code",
   "execution_count": 95,
   "metadata": {
    "scrolled": true
   },
   "outputs": [
    {
     "data": {
      "text/plain": [
       "MLPClassifier(activation='logistic', alpha=0.0001, batch_size=4000,\n",
       "       beta_1=0.9, beta_2=0.999, early_stopping=False, epsilon=1e-08,\n",
       "       hidden_layer_sizes=(25,), learning_rate='constant',\n",
       "       learning_rate_init=10, max_iter=10000, momentum=0,\n",
       "       nesterovs_momentum=True, power_t=0.5, random_state=29, shuffle=True,\n",
       "       solver='sgd', tol=0.0001, validation_fraction=0.1, verbose=False,\n",
       "       warm_start=False)"
      ]
     },
     "execution_count": 95,
     "metadata": {},
     "output_type": "execute_result"
    }
   ],
   "source": [
    "mlp_eta_10 = MLPClassifier(solver=\"sgd\")\n",
    "mlp_eta_10.hidden_layer_sizes = (25,)\n",
    "mlp_eta_10.activation = \"logistic\"\n",
    "mlp_eta_10.learning_rate_init = 10\n",
    "mlp_eta_10.alpha = 0.0001\n",
    "mlp_eta_10.batch_size = 4000\n",
    "mlp_eta_10.shuffle = True\n",
    "mlp_eta_10.random_state = 29\n",
    "mlp_eta_10.momentum = 0\n",
    "mlp_eta_10.verbose = False\n",
    "mlp_eta_10.max_iter = 10000\n",
    "\n",
    "mlp_eta_10.fit(X_train, Y_train)"
   ]
  },
  {
   "cell_type": "code",
   "execution_count": 119,
   "metadata": {},
   "outputs": [
    {
     "data": {
      "image/png": "[encoded data removed]",
      "text/plain": [
       "<Figure size 432x288 with 1 Axes>"
      ]
     },
     "metadata": {},
     "output_type": "display_data"
    },
    {
     "name": "stdout",
     "output_type": "stream",
     "text": [
      "Loss: \t\t 0.12827630233023052\n",
      "Iterations: \t 1317\n"
     ]
    }
   ],
   "source": [
    "fig_mlp_eta_05 = plt.figure()\n",
    "ax1 = fig_mlp_eta_05.add_subplot(111)\n",
    "ax1.plot(mlp_eta_05.loss_curve_)\n",
    "ax1.set(title=r\"$\\eta = 0.5$\", xlabel=\"Epoch\", ylabel=\"Loss\")\n",
    "\n",
    "plt.show()\n",
    "\n",
    "print('Loss: \\t\\t', mlp_eta_05.loss_)\n",
    "print('Iterations: \\t', mlp_eta_05.n_iter_)"
   ]
  },
  {
   "cell_type": "code",
   "execution_count": 120,
   "metadata": {},
   "outputs": [
    {
     "data": {
      "image/png": "[encoded data removed]",
      "text/plain": [
       "<Figure size 432x288 with 1 Axes>"
      ]
     },
     "metadata": {},
     "output_type": "display_data"
    },
    {
     "name": "stdout",
     "output_type": "stream",
     "text": [
      "Loss: \t\t 0.07727741722988071\n",
      "Iterations: \t 1017\n"
     ]
    }
   ],
   "source": [
    "fig_mlp_eta_1 = plt.figure()\n",
    "ax1 = fig_mlp_eta_1.add_subplot(111)\n",
    "ax1.plot(mlp_eta_1.loss_curve_)\n",
    "ax1.set(title=r\"$\\eta = 1$\", xlabel=\"Epoch\", ylabel=\"Loss\")\n",
    "\n",
    "plt.show()\n",
    "\n",
    "print('Loss: \\t\\t', mlp_eta_1.loss_)\n",
    "print('Iterations: \\t', mlp_eta_1.n_iter_)"
   ]
  },
  {
   "cell_type": "code",
   "execution_count": 121,
   "metadata": {},
   "outputs": [
    {
     "data": {
      "image/png": "[encoded data removed]",
      "text/plain": [
       "<Figure size 432x288 with 1 Axes>"
      ]
     },
     "metadata": {},
     "output_type": "display_data"
    },
    {
     "name": "stdout",
     "output_type": "stream",
     "text": [
      "Loss: \t\t 2.139794626655585\n",
      "Iterations: \t 9\n"
     ]
    }
   ],
   "source": [
    "fig_mlp_eta_10 = plt.figure()\n",
    "ax1 = fig_mlp_eta_10.add_subplot(111)\n",
    "ax1.plot(mlp_eta_10.loss_curve_)\n",
    "ax1.set(title=r\"$\\eta = 10$\", xlabel=\"Epoch\", ylabel=\"Loss\")\n",
    "\n",
    "plt.show()\n",
    "\n",
    "print('Loss: \\t\\t', mlp_eta_10.loss_)\n",
    "print('Iterations: \\t', mlp_eta_10.n_iter_)"
   ]
  },
  {
   "cell_type": "markdown",
   "metadata": {},
   "source": [
    "The results above show that increasing the learning rate $\\eta$ from 0.5 to 1 slightly speed up convergence (from 1317 to 1017 iterations) and return a lower final loss on the training set (from 0.13 to 0.08).\n",
    "\n",
    "However, once we increase the learning rate to 10, the training doesn't even reach convergence. This was expected, since a large learning rate makes the walk over the _\"Loss surface\"_ unstable, as it doesn't allow the training algorithm to settle on a minimum. \n",
    "\n",
    "You can see it as a giant walking on a moutain range and trying to reach the bottom of a valley, but whose steps are so large that it keeps switching back and forth between the opposing mountains and never actually reaching the bottom of the valley.\n",
    "\n",
    "Let's see how well our models classify previously unseen data (_\"test dataset\"_)."
   ]
  },
  {
   "cell_type": "code",
   "execution_count": 161,
   "metadata": {},
   "outputs": [
    {
     "name": "stdout",
     "output_type": "stream",
     "text": [
      "\n",
      "Learning Rate = 0.5\n",
      "\n",
      "Accuracy:  0.907 \n",
      "\n",
      "             precision    recall  f1-score   support\n",
      "\n",
      "          0       0.94      0.96      0.95        83\n",
      "          1       0.92      0.98      0.95       113\n",
      "          2       0.87      0.91      0.89        89\n",
      "          3       0.89      0.87      0.88        85\n",
      "          4       0.91      0.91      0.91       106\n",
      "          5       0.86      0.85      0.86       113\n",
      "          6       0.95      0.90      0.92        96\n",
      "          7       0.96      0.92      0.94       109\n",
      "          8       0.87      0.86      0.87       108\n",
      "          9       0.91      0.92      0.91        98\n",
      "\n",
      "avg / total       0.91      0.91      0.91      1000\n",
      "\n"
     ]
    }
   ],
   "source": [
    "print('\\nLearning Rate = 0.5\\n')\n",
    "print('Accuracy: ', accuracy_score(Y_test, mlp_eta_05.predict(X_test)), '\\n')\n",
    "print(classification_report(Y_test, mlp_eta_05.predict(X_test)))"
   ]
  },
  {
   "cell_type": "code",
   "execution_count": 162,
   "metadata": {},
   "outputs": [
    {
     "name": "stdout",
     "output_type": "stream",
     "text": [
      "\n",
      "Learning Rate = 1\n",
      "\n",
      "Accuracy:  0.916 \n",
      "\n",
      "             precision    recall  f1-score   support\n",
      "\n",
      "          0       0.94      0.96      0.95        83\n",
      "          1       0.93      0.98      0.96       113\n",
      "          2       0.88      0.93      0.91        89\n",
      "          3       0.91      0.88      0.90        85\n",
      "          4       0.91      0.91      0.91       106\n",
      "          5       0.87      0.86      0.86       113\n",
      "          6       0.96      0.92      0.94        96\n",
      "          7       0.95      0.93      0.94       109\n",
      "          8       0.90      0.89      0.89       108\n",
      "          9       0.92      0.91      0.91        98\n",
      "\n",
      "avg / total       0.92      0.92      0.92      1000\n",
      "\n"
     ]
    }
   ],
   "source": [
    "print('\\nLearning Rate = 1\\n')\n",
    "print('Accuracy: ', accuracy_score(Y_test, mlp_eta_1.predict(X_test)), '\\n')\n",
    "print(classification_report(Y_test, mlp_eta_1.predict(X_test)))"
   ]
  },
  {
   "cell_type": "code",
   "execution_count": 163,
   "metadata": {},
   "outputs": [
    {
     "name": "stdout",
     "output_type": "stream",
     "text": [
      "\n",
      "Learning Rate = 10\n",
      "\n",
      "Accuracy:  0.134 \n",
      "\n",
      "             precision    recall  f1-score   support\n",
      "\n",
      "          0       0.00      0.00      0.00        83\n",
      "          1       0.13      1.00      0.23       113\n",
      "          2       0.06      0.06      0.06        89\n",
      "          3       0.00      0.00      0.00        85\n",
      "          4       0.00      0.00      0.00       106\n",
      "          5       0.00      0.00      0.00       113\n",
      "          6       0.00      0.00      0.00        96\n",
      "          7       0.00      0.00      0.00       109\n",
      "          8       0.00      0.00      0.00       108\n",
      "          9       0.23      0.16      0.19        98\n",
      "\n",
      "avg / total       0.04      0.13      0.05      1000\n",
      "\n"
     ]
    },
    {
     "name": "stderr",
     "output_type": "stream",
     "text": [
      "/Users/alvaro/anaconda/lib/python3.6/site-packages/sklearn/metrics/classification.py:1135: UndefinedMetricWarning: Precision and F-score are ill-defined and being set to 0.0 in labels with no predicted samples.\n",
      "  'precision', 'predicted', average, warn_for)\n"
     ]
    }
   ],
   "source": [
    "print('\\nLearning Rate = 10\\n')\n",
    "print('Accuracy: ', accuracy_score(Y_test, mlp_eta_10.predict(X_test)), '\\n')\n",
    "print(classification_report(Y_test, mlp_eta_10.predict(X_test)))"
   ]
  },
  {
   "cell_type": "markdown",
   "metadata": {},
   "source": [
    "## Different batch sizes\n",
    "So our model is converging only very slowly or not at all. What can we do to improve its performance?\n",
    "\n",
    "It is known that _gradient descent_ with the whole training set being used for each epoch tends to result in a slow but sure convergence. This could be the case.\n",
    "\n",
    "On the other hand, _stochastic gradient descent_, in which the error and weight updates are done for each sample, one at a time, tends to converge fast but be unstable, requiring a fine adjustment of other hyper-parameters, such as learning rate.\n",
    "\n",
    "In the middle, _mini-batches_ approach (which uses some of the samples, but not all of them, in each training epoch) is shown to possess both advantages above, i.e., convergence speed and stability.\n",
    "\n",
    "Let's test them and see what happens, beginning with _stochastic gradient descent_."
   ]
  },
  {
   "cell_type": "markdown",
   "metadata": {},
   "source": [
    "### SGD training (batch size = 1)"
   ]
  },
  {
   "cell_type": "code",
   "execution_count": 99,
   "metadata": {
    "scrolled": true
   },
   "outputs": [
    {
     "data": {
      "text/plain": [
       "MLPClassifier(activation='logistic', alpha=0.0001, batch_size=1, beta_1=0.9,\n",
       "       beta_2=0.999, early_stopping=False, epsilon=1e-08,\n",
       "       hidden_layer_sizes=(25,), learning_rate='constant',\n",
       "       learning_rate_init=0.5, max_iter=10000, momentum=0,\n",
       "       nesterovs_momentum=True, power_t=0.5, random_state=29, shuffle=True,\n",
       "       solver='sgd', tol=0.0001, validation_fraction=0.1, verbose=False,\n",
       "       warm_start=False)"
      ]
     },
     "execution_count": 99,
     "metadata": {},
     "output_type": "execute_result"
    }
   ],
   "source": [
    "mlp_SGD = MLPClassifier(solver=\"sgd\")\n",
    "mlp_SGD.hidden_layer_sizes = (25,)\n",
    "mlp_SGD.activation = \"logistic\"\n",
    "mlp_SGD.learning_rate_init = 0.5\n",
    "mlp_SGD.alpha = 0.0001\n",
    "mlp_SGD.batch_size = 1\n",
    "mlp_SGD.shuffle = True\n",
    "mlp_SGD.random_state = 29\n",
    "mlp_SGD.momentum = 0\n",
    "mlp_SGD.verbose = False\n",
    "mlp_SGD.max_iter = 10000\n",
    "\n",
    "mlp_SGD.fit(X_train, Y_train)"
   ]
  },
  {
   "cell_type": "code",
   "execution_count": 106,
   "metadata": {},
   "outputs": [
    {
     "data": {
      "image/png": "[encoded data removed]",
      "text/plain": [
       "<Figure size 432x288 with 1 Axes>"
      ]
     },
     "metadata": {},
     "output_type": "display_data"
    },
    {
     "name": "stdout",
     "output_type": "stream",
     "text": [
      "Loss: \t\t 1.0317056319409774\n",
      "Iterations: \t 10\n"
     ]
    }
   ],
   "source": [
    "fig_mlp_SGD = plt.figure()\n",
    "ax1 = fig_mlp_SGD.add_subplot(111)\n",
    "ax1.plot(mlp_SGD.loss_curve_)\n",
    "ax1.set(title=r\"SGD training (batch size = 1)\", xlabel=\"Epoch\", ylabel=\"Loss\")\n",
    "\n",
    "plt.show()\n",
    "\n",
    "print('Loss: \\t\\t', mlp_SGD.loss_)\n",
    "print('Iterations: \\t', mlp_SGD.n_iter_)"
   ]
  },
  {
   "cell_type": "markdown",
   "metadata": {},
   "source": [
    "As can be seen on the results above, _stochastic gradient descent_ shows unstable behavior and doesn't converge as it is. We can try to reduce the learning rate and increase the regularization coefficient in hopes of smoothing the training steps (the _\"search\"_ over the loss surface)."
   ]
  },
  {
   "cell_type": "code",
   "execution_count": 101,
   "metadata": {
    "scrolled": true
   },
   "outputs": [
    {
     "data": {
      "text/plain": [
       "MLPClassifier(activation='logistic', alpha=0.1, batch_size=1, beta_1=0.9,\n",
       "       beta_2=0.999, early_stopping=False, epsilon=1e-08,\n",
       "       hidden_layer_sizes=(25,), learning_rate='constant',\n",
       "       learning_rate_init=0.01, max_iter=10000, momentum=0,\n",
       "       nesterovs_momentum=True, power_t=0.5, random_state=29, shuffle=True,\n",
       "       solver='sgd', tol=0.0001, validation_fraction=0.1, verbose=False,\n",
       "       warm_start=False)"
      ]
     },
     "execution_count": 101,
     "metadata": {},
     "output_type": "execute_result"
    }
   ],
   "source": [
    "mlp_SGD2 = MLPClassifier(solver=\"sgd\")\n",
    "mlp_SGD2.hidden_layer_sizes = (25,)\n",
    "mlp_SGD2.activation = \"logistic\"\n",
    "mlp_SGD2.learning_rate_init = 0.01\n",
    "mlp_SGD2.alpha = 0.1\n",
    "mlp_SGD2.batch_size = 1\n",
    "mlp_SGD2.shuffle = True\n",
    "mlp_SGD2.random_state = 29\n",
    "mlp_SGD2.momentum = 0\n",
    "mlp_SGD2.verbose = False\n",
    "mlp_SGD2.max_iter = 10000\n",
    "\n",
    "mlp_SGD2.fit(X_train, Y_train)"
   ]
  },
  {
   "cell_type": "code",
   "execution_count": 109,
   "metadata": {},
   "outputs": [
    {
     "data": {
      "image/png": "[encoded data removed]",
      "text/plain": [
       "<Figure size 432x288 with 1 Axes>"
      ]
     },
     "metadata": {},
     "output_type": "display_data"
    },
    {
     "name": "stdout",
     "output_type": "stream",
     "text": [
      "Loss: \t\t 2.2887581216703\n",
      "Iterations: \t 11\n"
     ]
    }
   ],
   "source": [
    "fig_mlp_SGD2 = plt.figure()\n",
    "ax1 = fig_mlp_SGD2.add_subplot(111)\n",
    "ax1.plot(mlp_SGD2.loss_curve_)\n",
    "ax1.set(title=r\"SGD training $\\eta = 0.01, \\ \\lambda = 0.1$\", xlabel=\"Epoch\", ylabel=\"Loss\")\n",
    "\n",
    "plt.show()\n",
    "\n",
    "print('Loss: \\t\\t', mlp_SGD2.loss_)\n",
    "print('Iterations: \\t', mlp_SGD2.n_iter_)"
   ]
  },
  {
   "cell_type": "markdown",
   "metadata": {},
   "source": [
    "The changes weren't enough to make the training work. \n",
    "\n",
    "We can try now to use the _mini-batch_ approach."
   ]
  },
  {
   "cell_type": "markdown",
   "metadata": {},
   "source": [
    "## Mini-Batch\n",
    "Batch sizes tested will be 10, 50 and 500 samples."
   ]
  },
  {
   "cell_type": "code",
   "execution_count": 122,
   "metadata": {
    "scrolled": true
   },
   "outputs": [
    {
     "data": {
      "text/plain": [
       "MLPClassifier(activation='logistic', alpha=0.0001, batch_size=10, beta_1=0.9,\n",
       "       beta_2=0.999, early_stopping=False, epsilon=1e-08,\n",
       "       hidden_layer_sizes=(25,), learning_rate='constant',\n",
       "       learning_rate_init=0.5, max_iter=10000, momentum=0,\n",
       "       nesterovs_momentum=True, power_t=0.5, random_state=29, shuffle=True,\n",
       "       solver='sgd', tol=0.0001, validation_fraction=0.1, verbose=False,\n",
       "       warm_start=False)"
      ]
     },
     "execution_count": 122,
     "metadata": {},
     "output_type": "execute_result"
    }
   ],
   "source": [
    "mlp_MB10 = MLPClassifier(solver=\"sgd\")\n",
    "mlp_MB10.hidden_layer_sizes = (25,)\n",
    "mlp_MB10.activation = \"logistic\"\n",
    "mlp_MB10.learning_rate_init = 0.5\n",
    "mlp_MB10.alpha = 0.0001\n",
    "mlp_MB10.batch_size = 10\n",
    "mlp_MB10.shuffle = True\n",
    "mlp_MB10.random_state = 29\n",
    "mlp_MB10.momentum = 0\n",
    "mlp_MB10.verbose = False\n",
    "mlp_MB10.max_iter = 10000\n",
    "\n",
    "mlp_MB10.fit(X_train, Y_train)"
   ]
  },
  {
   "cell_type": "code",
   "execution_count": 123,
   "metadata": {
    "scrolled": true
   },
   "outputs": [
    {
     "data": {
      "text/plain": [
       "MLPClassifier(activation='logistic', alpha=0.0001, batch_size=50, beta_1=0.9,\n",
       "       beta_2=0.999, early_stopping=False, epsilon=1e-08,\n",
       "       hidden_layer_sizes=(25,), learning_rate='constant',\n",
       "       learning_rate_init=0.5, max_iter=10000, momentum=0,\n",
       "       nesterovs_momentum=True, power_t=0.5, random_state=29, shuffle=True,\n",
       "       solver='sgd', tol=0.0001, validation_fraction=0.1, verbose=False,\n",
       "       warm_start=False)"
      ]
     },
     "execution_count": 123,
     "metadata": {},
     "output_type": "execute_result"
    }
   ],
   "source": [
    "mlp_MB50 = MLPClassifier(solver=\"sgd\")\n",
    "mlp_MB50.hidden_layer_sizes = (25,)\n",
    "mlp_MB50.activation = \"logistic\"\n",
    "mlp_MB50.learning_rate_init = 0.5\n",
    "mlp_MB50.alpha = 0.0001\n",
    "mlp_MB50.batch_size = 50\n",
    "mlp_MB50.shuffle = True\n",
    "mlp_MB50.random_state = 29\n",
    "mlp_MB50.momentum = 0\n",
    "mlp_MB50.verbose = False\n",
    "mlp_MB50.max_iter = 10000\n",
    "\n",
    "mlp_MB50.fit(X_train, Y_train)"
   ]
  },
  {
   "cell_type": "code",
   "execution_count": 124,
   "metadata": {
    "scrolled": true
   },
   "outputs": [
    {
     "data": {
      "text/plain": [
       "MLPClassifier(activation='logistic', alpha=0.0001, batch_size=500, beta_1=0.9,\n",
       "       beta_2=0.999, early_stopping=False, epsilon=1e-08,\n",
       "       hidden_layer_sizes=(25,), learning_rate='constant',\n",
       "       learning_rate_init=0.5, max_iter=10000, momentum=0,\n",
       "       nesterovs_momentum=True, power_t=0.5, random_state=29, shuffle=True,\n",
       "       solver='sgd', tol=0.0001, validation_fraction=0.1, verbose=False,\n",
       "       warm_start=False)"
      ]
     },
     "execution_count": 124,
     "metadata": {},
     "output_type": "execute_result"
    }
   ],
   "source": [
    "mlp_MB500 = MLPClassifier(solver=\"sgd\")\n",
    "mlp_MB500.hidden_layer_sizes = (25,)\n",
    "mlp_MB500.activation = \"logistic\"\n",
    "mlp_MB500.learning_rate_init = 0.5\n",
    "mlp_MB500.alpha = 0.0001\n",
    "mlp_MB500.batch_size = 500\n",
    "mlp_MB500.shuffle = True\n",
    "mlp_MB500.random_state = 29\n",
    "mlp_MB500.momentum = 0\n",
    "mlp_MB500.verbose = False\n",
    "mlp_MB500.max_iter = 10000\n",
    "\n",
    "mlp_MB500.fit(X_train, Y_train)"
   ]
  },
  {
   "cell_type": "code",
   "execution_count": 125,
   "metadata": {},
   "outputs": [
    {
     "data": {
      "image/png": "[encoded data removed]",
      "text/plain": [
       "<Figure size 432x288 with 1 Axes>"
      ]
     },
     "metadata": {},
     "output_type": "display_data"
    },
    {
     "name": "stdout",
     "output_type": "stream",
     "text": [
      "Loss: \t\t 0.013735572552922794\n",
      "Iterations: \t 49\n"
     ]
    }
   ],
   "source": [
    "fig_mlp_MB10 = plt.figure()\n",
    "ax1 = fig_mlp_MB10.add_subplot(111)\n",
    "ax1.plot(mlp_MB10.loss_curve_)\n",
    "ax1.set(title=r\"Batch size = 10\", xlabel=\"Epoch\", ylabel=\"Loss\")\n",
    "\n",
    "plt.show()\n",
    "\n",
    "print('Loss: \\t\\t', mlp_MB10.loss_)\n",
    "print('Iterations: \\t', mlp_MB10.n_iter_)"
   ]
  },
  {
   "cell_type": "code",
   "execution_count": 126,
   "metadata": {},
   "outputs": [
    {
     "data": {
      "image/png": "[encoded data removed]",
      "text/plain": [
       "<Figure size 432x288 with 1 Axes>"
      ]
     },
     "metadata": {},
     "output_type": "display_data"
    },
    {
     "name": "stdout",
     "output_type": "stream",
     "text": [
      "Loss: \t\t 0.009333046934148364\n",
      "Iterations: \t 125\n"
     ]
    }
   ],
   "source": [
    "fig_mlp_MB50 = plt.figure()\n",
    "ax1 = fig_mlp_MB50.add_subplot(111)\n",
    "ax1.plot(mlp_MB50.loss_curve_)\n",
    "ax1.set(title=r\"Batch size = 50\", xlabel=\"Epoch\", ylabel=\"Loss\")\n",
    "\n",
    "plt.show()\n",
    "\n",
    "print('Loss: \\t\\t', mlp_MB50.loss_)\n",
    "print('Iterations: \\t', mlp_MB50.n_iter_)"
   ]
  },
  {
   "cell_type": "code",
   "execution_count": 127,
   "metadata": {},
   "outputs": [
    {
     "data": {
      "image/png": "[encoded data removed]",
      "text/plain": [
       "<Figure size 432x288 with 1 Axes>"
      ]
     },
     "metadata": {},
     "output_type": "display_data"
    },
    {
     "name": "stdout",
     "output_type": "stream",
     "text": [
      "Loss: \t\t 0.032313840998106115\n",
      "Iterations: \t 469\n"
     ]
    }
   ],
   "source": [
    "fig_mlp_MB500 = plt.figure()\n",
    "ax1 = fig_mlp_MB500.add_subplot(111)\n",
    "ax1.plot(mlp_MB500.loss_curve_)\n",
    "ax1.set(title=r\"Batch size = 500\", xlabel=\"Epoch\", ylabel=\"Loss\")\n",
    "\n",
    "plt.show()\n",
    "\n",
    "print('Loss: \\t\\t', mlp_MB500.loss_)\n",
    "print('Iterations: \\t', mlp_MB500.n_iter_)"
   ]
  },
  {
   "cell_type": "markdown",
   "metadata": {},
   "source": [
    "From the results above, it can be seen that the larger the batch size, the longer it takes for the training to converge. However, all three cases reached a lower loss than the first _gradient descent_ (whole dataset training).\n",
    "\n",
    "The sweet spot, as far as loss function is concerned, seems to be between a batch size of 10 and 50.\n",
    "\n",
    "Maybe the reason why SGD didn't work and MB10 did is because our dataset has 10 classes. Think about it... in SGD, the error is calculated for each single input, and the weights are updated for each single input. This makes the network change directions wildly and abruptly on the error surface, because in this iteration it is adjusting for a misclassified \"one\", next iteration it has to adjust for a misclassified \"eight\".\n",
    "\n",
    "When you calculate the error over a batch of, say, 10 samples, there's a higher probability that it will be averaged over a more varied group, representative of a higher number of classes, and the adjustment will be done based on this average error that now represents more classes. Maybe that's why, in our case, 10 is a magic number for batch size.\n",
    "\n",
    "Now, let's see what happens when we change the number of units in the hidden layer."
   ]
  },
  {
   "cell_type": "code",
   "execution_count": 164,
   "metadata": {},
   "outputs": [
    {
     "name": "stdout",
     "output_type": "stream",
     "text": [
      "\n",
      "Batch Size = 10\n",
      "\n",
      "Accuracy:  0.92 \n",
      "\n",
      "             precision    recall  f1-score   support\n",
      "\n",
      "          0       0.94      0.95      0.95        83\n",
      "          1       0.94      0.98      0.96       113\n",
      "          2       0.90      0.92      0.91        89\n",
      "          3       0.93      0.88      0.90        85\n",
      "          4       0.92      0.92      0.92       106\n",
      "          5       0.89      0.89      0.89       113\n",
      "          6       0.92      0.94      0.93        96\n",
      "          7       0.95      0.93      0.94       109\n",
      "          8       0.89      0.87      0.88       108\n",
      "          9       0.92      0.92      0.92        98\n",
      "\n",
      "avg / total       0.92      0.92      0.92      1000\n",
      "\n"
     ]
    }
   ],
   "source": [
    "print('\\nBatch Size = 10\\n')\n",
    "print('Accuracy: ', accuracy_score(Y_test, mlp_MB10.predict(X_test)), '\\n')\n",
    "print(classification_report(Y_test, mlp_MB10.predict(X_test)))"
   ]
  },
  {
   "cell_type": "code",
   "execution_count": 165,
   "metadata": {},
   "outputs": [
    {
     "name": "stdout",
     "output_type": "stream",
     "text": [
      "\n",
      "Batch Size = 50\n",
      "\n",
      "Accuracy:  0.919 \n",
      "\n",
      "             precision    recall  f1-score   support\n",
      "\n",
      "          0       0.92      0.95      0.93        83\n",
      "          1       0.96      0.98      0.97       113\n",
      "          2       0.87      0.90      0.88        89\n",
      "          3       0.91      0.88      0.90        85\n",
      "          4       0.92      0.92      0.92       106\n",
      "          5       0.88      0.88      0.88       113\n",
      "          6       0.96      0.94      0.95        96\n",
      "          7       0.94      0.93      0.94       109\n",
      "          8       0.91      0.89      0.90       108\n",
      "          9       0.91      0.93      0.92        98\n",
      "\n",
      "avg / total       0.92      0.92      0.92      1000\n",
      "\n"
     ]
    }
   ],
   "source": [
    "print('\\nBatch Size = 50\\n')\n",
    "print('Accuracy: ', accuracy_score(Y_test, mlp_MB50.predict(X_test)), '\\n')\n",
    "print(classification_report(Y_test, mlp_MB50.predict(X_test)))"
   ]
  },
  {
   "cell_type": "code",
   "execution_count": 166,
   "metadata": {},
   "outputs": [
    {
     "name": "stdout",
     "output_type": "stream",
     "text": [
      "\n",
      "Batch Size = 500\n",
      "\n",
      "Accuracy:  0.919 \n",
      "\n",
      "             precision    recall  f1-score   support\n",
      "\n",
      "          0       0.96      0.96      0.96        83\n",
      "          1       0.94      0.98      0.96       113\n",
      "          2       0.88      0.92      0.90        89\n",
      "          3       0.94      0.88      0.91        85\n",
      "          4       0.92      0.92      0.92       106\n",
      "          5       0.87      0.88      0.87       113\n",
      "          6       0.94      0.93      0.93        96\n",
      "          7       0.95      0.93      0.94       109\n",
      "          8       0.92      0.90      0.91       108\n",
      "          9       0.89      0.90      0.89        98\n",
      "\n",
      "avg / total       0.92      0.92      0.92      1000\n",
      "\n"
     ]
    }
   ],
   "source": [
    "print('\\nBatch Size = 500\\n')\n",
    "print('Accuracy: ', accuracy_score(Y_test, mlp_MB500.predict(X_test)), '\\n')\n",
    "print(classification_report(Y_test, mlp_MB500.predict(X_test)))"
   ]
  },
  {
   "cell_type": "code",
   "execution_count": null,
   "metadata": {},
   "outputs": [],
   "source": []
  },
  {
   "cell_type": "markdown",
   "metadata": {},
   "source": [
    "## Hidden Layer\n",
    "Another hyper-parameter that can be adjusted is the number of hidden layers and the number of units in each hidden layer.\n",
    "\n",
    "A MLP with a single hidden layer is a _\"universal approximator\"_, meaning that it can approximate any continuous function given a sufficient number of units in the hidden layer.\n",
    "\n",
    "However, as the number of hidden units is increased, so is the network's complexity and its tendency to overfit the data. Thus, a larger hidden layer doesn't always translate into a better model, especially when the capacity for generalization is at stake."
   ]
  },
  {
   "cell_type": "markdown",
   "metadata": {},
   "source": [
    "The next experiments will evaluate the influence of the size of the hidden layer on the network's capacity to be trained on the dataset, comparing the number of iterations necessary for convergence and the final loss achieved to the previous cases.\n",
    "\n",
    "Later, we will use the test dataset to define which of the trained networks is better when dealing with previously unseen data, i.e., which one is better at generalization."
   ]
  },
  {
   "cell_type": "markdown",
   "metadata": {},
   "source": [
    "### 50 hidden units\n",
    "Let's analise the network's behavior when we increase the number of hidden units to 50."
   ]
  },
  {
   "cell_type": "code",
   "execution_count": 128,
   "metadata": {
    "scrolled": true
   },
   "outputs": [
    {
     "data": {
      "text/plain": [
       "MLPClassifier(activation='logistic', alpha=0.0001, batch_size=4000,\n",
       "       beta_1=0.9, beta_2=0.999, early_stopping=False, epsilon=1e-08,\n",
       "       hidden_layer_sizes=(50,), learning_rate='constant',\n",
       "       learning_rate_init=0.5, max_iter=10000, momentum=0,\n",
       "       nesterovs_momentum=True, power_t=0.5, random_state=29, shuffle=True,\n",
       "       solver='sgd', tol=0.0001, validation_fraction=0.1, verbose=False,\n",
       "       warm_start=False)"
      ]
     },
     "execution_count": 128,
     "metadata": {},
     "output_type": "execute_result"
    }
   ],
   "source": [
    "mlp_Hid50 = MLPClassifier(solver=\"sgd\")\n",
    "mlp_Hid50.hidden_layer_sizes = (50,)\n",
    "mlp_Hid50.activation = \"logistic\"\n",
    "mlp_Hid50.learning_rate_init = 0.5\n",
    "mlp_Hid50.alpha = 0.0001\n",
    "mlp_Hid50.batch_size = 4000\n",
    "mlp_Hid50.shuffle = True\n",
    "mlp_Hid50.random_state = 29\n",
    "mlp_Hid50.momentum = 0\n",
    "mlp_Hid50.verbose = False\n",
    "mlp_Hid50.max_iter = 10000\n",
    "\n",
    "mlp_Hid50.fit(X_train, Y_train)"
   ]
  },
  {
   "cell_type": "code",
   "execution_count": 129,
   "metadata": {},
   "outputs": [
    {
     "data": {
      "image/png": "[encoded data removed]",
      "text/plain": [
       "<Figure size 432x288 with 1 Axes>"
      ]
     },
     "metadata": {},
     "output_type": "display_data"
    },
    {
     "name": "stdout",
     "output_type": "stream",
     "text": [
      "Loss: \t\t 0.11520214728939546\n",
      "Iterations: \t 1298\n"
     ]
    }
   ],
   "source": [
    "fig_mlp_Hid50 = plt.figure()\n",
    "ax1 = fig_mlp_Hid50.add_subplot(111)\n",
    "ax1.plot(mlp_Hid50.loss_curve_)\n",
    "ax1.set(title=r\"50 hidden units\", xlabel=\"Epoch\", ylabel=\"Loss\")\n",
    "\n",
    "plt.show()\n",
    "\n",
    "print('Loss: \\t\\t', mlp_Hid50.loss_)\n",
    "print('Iterations: \\t', mlp_Hid50.n_iter_)"
   ]
  },
  {
   "cell_type": "code",
   "execution_count": 167,
   "metadata": {},
   "outputs": [
    {
     "name": "stdout",
     "output_type": "stream",
     "text": [
      "\n",
      "50 hidden units\n",
      "\n",
      "Accuracy:  0.929 \n",
      "\n",
      "             precision    recall  f1-score   support\n",
      "\n",
      "          0       0.95      0.99      0.97        83\n",
      "          1       0.93      0.98      0.96       113\n",
      "          2       0.90      0.92      0.91        89\n",
      "          3       0.92      0.92      0.92        85\n",
      "          4       0.91      0.94      0.93       106\n",
      "          5       0.93      0.89      0.91       113\n",
      "          6       0.98      0.92      0.95        96\n",
      "          7       0.97      0.90      0.93       109\n",
      "          8       0.89      0.92      0.90       108\n",
      "          9       0.92      0.92      0.92        98\n",
      "\n",
      "avg / total       0.93      0.93      0.93      1000\n",
      "\n"
     ]
    }
   ],
   "source": [
    "print('\\n50 hidden units\\n')\n",
    "print('Accuracy: ', accuracy_score(Y_test, mlp_Hid50.predict(X_test)), '\\n')\n",
    "print(classification_report(Y_test, mlp_Hid50.predict(X_test)))"
   ]
  },
  {
   "cell_type": "markdown",
   "metadata": {},
   "source": [
    "When you compare the results above to the first case studied, where we had the same setup except for the number of units in the hidden layer, the improvement in convergence and loss isn't significant.\n",
    "\n",
    "Let's see now how it compares to the model with 100 hidden units."
   ]
  },
  {
   "cell_type": "markdown",
   "metadata": {},
   "source": [
    "### 100 hidden units"
   ]
  },
  {
   "cell_type": "code",
   "execution_count": 130,
   "metadata": {
    "scrolled": true
   },
   "outputs": [
    {
     "data": {
      "text/plain": [
       "MLPClassifier(activation='logistic', alpha=0.0001, batch_size=4000,\n",
       "       beta_1=0.9, beta_2=0.999, early_stopping=False, epsilon=1e-08,\n",
       "       hidden_layer_sizes=(100,), learning_rate='constant',\n",
       "       learning_rate_init=0.5, max_iter=10000, momentum=0,\n",
       "       nesterovs_momentum=True, power_t=0.5, random_state=29, shuffle=True,\n",
       "       solver='sgd', tol=0.0001, validation_fraction=0.1, verbose=False,\n",
       "       warm_start=False)"
      ]
     },
     "execution_count": 130,
     "metadata": {},
     "output_type": "execute_result"
    }
   ],
   "source": [
    "mlp_Hid100 = MLPClassifier(solver=\"sgd\")\n",
    "mlp_Hid100.hidden_layer_sizes = (100,)\n",
    "mlp_Hid100.activation = \"logistic\"\n",
    "mlp_Hid100.learning_rate_init = 0.5\n",
    "mlp_Hid100.alpha = 0.0001\n",
    "mlp_Hid100.batch_size = 4000\n",
    "mlp_Hid100.shuffle = True\n",
    "mlp_Hid100.random_state = 29\n",
    "mlp_Hid100.momentum = 0\n",
    "mlp_Hid100.verbose = False\n",
    "mlp_Hid100.max_iter = 10000\n",
    "\n",
    "mlp_Hid100.fit(X_train, Y_train)"
   ]
  },
  {
   "cell_type": "code",
   "execution_count": 131,
   "metadata": {},
   "outputs": [
    {
     "data": {
      "image/png": "[encoded data removed]",
      "text/plain": [
       "<Figure size 432x288 with 1 Axes>"
      ]
     },
     "metadata": {},
     "output_type": "display_data"
    },
    {
     "name": "stdout",
     "output_type": "stream",
     "text": [
      "Loss: \t\t 0.11310872159810376\n",
      "Iterations: \t 1357\n"
     ]
    }
   ],
   "source": [
    "fig_mlp_Hid100 = plt.figure()\n",
    "ax1 = fig_mlp_Hid100.add_subplot(111)\n",
    "ax1.plot(mlp_Hid100.loss_curve_)\n",
    "ax1.set(title=r\"100 hidden units\", xlabel=\"Epoch\", ylabel=\"Loss\")\n",
    "\n",
    "plt.show()\n",
    "\n",
    "print('Loss: \\t\\t', mlp_Hid100.loss_)\n",
    "print('Iterations: \\t', mlp_Hid100.n_iter_)"
   ]
  },
  {
   "cell_type": "code",
   "execution_count": 168,
   "metadata": {},
   "outputs": [
    {
     "name": "stdout",
     "output_type": "stream",
     "text": [
      "\n",
      "100 hidden units\n",
      "\n",
      "Accuracy:  0.926 \n",
      "\n",
      "             precision    recall  f1-score   support\n",
      "\n",
      "          0       0.95      0.96      0.96        83\n",
      "          1       0.94      0.98      0.96       113\n",
      "          2       0.87      0.93      0.90        89\n",
      "          3       0.92      0.91      0.91        85\n",
      "          4       0.92      0.92      0.92       106\n",
      "          5       0.89      0.89      0.89       113\n",
      "          6       0.96      0.91      0.93        96\n",
      "          7       0.97      0.92      0.94       109\n",
      "          8       0.90      0.92      0.91       108\n",
      "          9       0.94      0.92      0.93        98\n",
      "\n",
      "avg / total       0.93      0.93      0.93      1000\n",
      "\n"
     ]
    }
   ],
   "source": [
    "print('\\n100 hidden units\\n')\n",
    "print('Accuracy: ', accuracy_score(Y_test, mlp_Hid100.predict(X_test)), '\\n')\n",
    "print(classification_report(Y_test, mlp_Hid100.predict(X_test)))"
   ]
  },
  {
   "cell_type": "markdown",
   "metadata": {},
   "source": [
    "This model doesn't show significant improvement either. \n",
    "\n",
    "What we can do is now make adjustments to other hyper-parameters and, at last, evaluate the model's performance on the _\"test dataset\"_, which will tell us wether the training is overfitting or not and if our model is capable of generalization."
   ]
  },
  {
   "cell_type": "markdown",
   "metadata": {},
   "source": [
    "## Choosing a model - Evaluation on a test dataset\n",
    "Up until now, we have modified one hyper-parameter at a time while keeping all others at a defined value.\n",
    "We can try now to combine these adjustments in a way that, hopefully, improves our classifier even more.\n",
    "\n",
    "One way of doing this is through _\"grid search\"_, which is basically a structured and organized way of varying different hyper-parameters and choosing the ones that give us the best results.\n",
    "\n",
    "A grid search consists of:\n",
    "- an estimator (regressor or classifier such as MLPClassifier);\n",
    "- a parameter space;\n",
    "- a method for searching or sampling candidates;\n",
    "- a cross-validation scheme; and\n",
    "- a score function.\n",
    "\n",
    "(ref.: http://scikit-learn.org/stable/modules/grid_search.html#multimetric-grid-search)\n",
    "\n"
   ]
  },
  {
   "cell_type": "markdown",
   "metadata": {},
   "source": [
    "### Parameter estimation using grid search with cross-validation\n",
    "\n",
    "\n",
    "The experiment below shows how a classifier is optimized by cross-validation,\n",
    "which is done using _\"sklearn.model_selection.GridSearchCV\"_.\n",
    "\n",
    "This module performs a _\"cross validation\"_ over the training set, automatically splitting it into training and validation sets and evaluating the score metric for each of the parameter variations.\n",
    "\n",
    "For instance, if you want to choose the best regularization value, this approach calculates a cross-validated performance score for each regularization value to be investigated, and returns the one that produced the best score.\n",
    "\n",
    "Then, you can apply this network on a test dataset, which wasn't used until now, not even during cross validation. This gives the model's performance estimate on real world data, i.e., its capacity for generalization.\n",
    "\n",
    "The next experiment will compare three different hidden layer sizes (25, 50 and 100), each with five regularization values (0.0001, 0.001, 0.01, 0.1 and 1), totalling 15 different cases.\n",
    "\n",
    "The cross-validation scheme is cv=5, i.e., 4 folds for training (3200 samples) and 1 for validation (800 samples) for each run.\n",
    "\n",
    "Based on what we have seen so far about this particular problem, we will set the batch size to 30 and use an innitial learning rate equal to 0.5 in a adaptive scheme, which lowers its value during training whenever the loss stops decreasing.\n"
   ]
  },
  {
   "cell_type": "code",
   "execution_count": 373,
   "metadata": {
    "scrolled": false
   },
   "outputs": [
    {
     "data": {
      "text/plain": [
       "GridSearchCV(cv=5, error_score='raise',\n",
       "       estimator=MLPClassifier(activation='logistic', alpha=0.0001, batch_size=30, beta_1=0.9,\n",
       "       beta_2=0.999, early_stopping=False, epsilon=1e-08,\n",
       "       hidden_layer_sizes=(100,), learning_rate='adaptive',\n",
       "       learning_rate_init=0.5, max_iter=10000, momentum=0.9,\n",
       "       nesterovs_momentum=True, power_t=0.5, random_state=29, shuffle=True,\n",
       "       solver='sgd', tol=0.0001, validation_fraction=0.1, verbose=False,\n",
       "       warm_start=False),\n",
       "       fit_params=None, iid=True, n_jobs=1,\n",
       "       param_grid={'hidden_layer_sizes': [25, 50, 100], 'alpha': [0.0001, 0.001, 0.01, 0.1, 1]},\n",
       "       pre_dispatch='2*n_jobs', refit=True, return_train_score='warn',\n",
       "       scoring='accuracy', verbose=0)"
      ]
     },
     "execution_count": 373,
     "metadata": {},
     "output_type": "execute_result"
    }
   ],
   "source": [
    "from sklearn.model_selection import GridSearchCV\n",
    "\n",
    "parameters = {'hidden_layer_sizes': [25, 50, 100],\n",
    "              'alpha': [0.0001, 0.001, 0.01, 0.1, 1]}\n",
    "\n",
    "classifier = MLPClassifier(solver=\"sgd\",\n",
    "                           activation = 'logistic',\n",
    "                           batch_size = 30,\n",
    "                           learning_rate_init = 0.5,\n",
    "                           learning_rate = 'adaptive',\n",
    "                           max_iter = 10000,\n",
    "                           random_state = 29)\n",
    "\n",
    "clf = GridSearchCV(estimator = classifier,\n",
    "                   param_grid = parameters,\n",
    "                   cv=5,\n",
    "                   scoring='accuracy')\n",
    "\n",
    "clf.fit(X_train, Y_train)"
   ]
  },
  {
   "cell_type": "code",
   "execution_count": 381,
   "metadata": {
    "scrolled": false
   },
   "outputs": [
    {
     "name": "stdout",
     "output_type": "stream",
     "text": [
      "\n",
      "Grid Cross-Validation\n",
      "\n",
      "Accuracy:  0.943 \n",
      "\n",
      "Best parameters:  {'alpha': 0.001, 'hidden_layer_sizes': 50} \n",
      "\n",
      "Grid scores on experiment:\n",
      "\n",
      "0.911 (+/-0.016) for {'alpha': 0.0001, 'hidden_layer_sizes': 25}\n",
      "0.922 (+/-0.012) for {'alpha': 0.0001, 'hidden_layer_sizes': 50}\n",
      "0.905 (+/-0.030) for {'alpha': 0.0001, 'hidden_layer_sizes': 100}\n",
      "0.917 (+/-0.011) for {'alpha': 0.001, 'hidden_layer_sizes': 25}\n",
      "0.924 (+/-0.011) for {'alpha': 0.001, 'hidden_layer_sizes': 50}\n",
      "0.913 (+/-0.018) for {'alpha': 0.001, 'hidden_layer_sizes': 100}\n",
      "0.917 (+/-0.025) for {'alpha': 0.01, 'hidden_layer_sizes': 25}\n",
      "0.923 (+/-0.012) for {'alpha': 0.01, 'hidden_layer_sizes': 50}\n",
      "0.922 (+/-0.018) for {'alpha': 0.01, 'hidden_layer_sizes': 100}\n",
      "0.897 (+/-0.012) for {'alpha': 0.1, 'hidden_layer_sizes': 25}\n",
      "0.896 (+/-0.012) for {'alpha': 0.1, 'hidden_layer_sizes': 50}\n",
      "0.897 (+/-0.012) for {'alpha': 0.1, 'hidden_layer_sizes': 100}\n",
      "0.777 (+/-0.020) for {'alpha': 1, 'hidden_layer_sizes': 25}\n",
      "0.789 (+/-0.022) for {'alpha': 1, 'hidden_layer_sizes': 50}\n",
      "0.796 (+/-0.024) for {'alpha': 1, 'hidden_layer_sizes': 100}\n",
      "\n",
      "\n",
      "Performance report on best model over test dataset: \n",
      "\n",
      "             precision    recall  f1-score   support\n",
      "\n",
      "          0       0.95      0.99      0.97        83\n",
      "          1       0.97      0.98      0.97       113\n",
      "          2       0.93      0.93      0.93        89\n",
      "          3       0.93      0.92      0.92        85\n",
      "          4       0.94      0.95      0.94       106\n",
      "          5       0.96      0.92      0.94       113\n",
      "          6       0.95      0.94      0.94        96\n",
      "          7       0.96      0.94      0.95       109\n",
      "          8       0.92      0.91      0.92       108\n",
      "          9       0.91      0.95      0.93        98\n",
      "\n",
      "avg / total       0.94      0.94      0.94      1000\n",
      "\n"
     ]
    }
   ],
   "source": [
    "print('\\nGrid Cross-Validation\\n')\n",
    "print('Accuracy: ', accuracy_score(Y_test, clf.predict(X_test)), '\\n')\n",
    "print('Best parameters: ', clf.best_params_, '\\n')\n",
    "\n",
    "print(\"Grid scores on experiment:\")\n",
    "print()\n",
    "means = clf.cv_results_['mean_test_score']\n",
    "stds = clf.cv_results_['std_test_score']\n",
    "for mean, std, params in zip(means, stds, clf.cv_results_['params']):\n",
    "    print(\"%0.3f (+/-%0.03f) for %r\"\n",
    "          % (mean, std * 2, params))\n",
    "print('\\n\\nPerformance report on best model over test dataset: \\n')\n",
    "\n",
    "print(classification_report(Y_test, clf.predict(X_test)))"
   ]
  },
  {
   "cell_type": "markdown",
   "metadata": {},
   "source": [
    "# Conclusion\n",
    "We have seen how different hyper-parameters can affect a MLP behavior. More importantly, we have discussed that these effect can vary depending on the dataset being worked with.\n",
    "\n",
    "Grid search cross validation helped find a good fit, but the cost of performing such an extensive search can become prohibitive. That's why previous knowledge of the type of data and of the typical behavior of the model being used is so important.\n"
   ]
  },
  {
   "cell_type": "code",
   "execution_count": null,
   "metadata": {},
   "outputs": [],
   "source": []
  }
 ],
 "metadata": {
  "kernelspec": {
   "display_name": "Python 3",
   "language": "python",
   "name": "python3"
  },
  "language_info": {
   "codemirror_mode": {
    "name": "ipython",
    "version": 3
   },
   "file_extension": ".py",
   "mimetype": "text/x-python",
   "name": "python",
   "nbconvert_exporter": "python",
   "pygments_lexer": "ipython3",
   "version": "3.6.3"
  }
 },
 "nbformat": 4,
 "nbformat_minor": 2
}
